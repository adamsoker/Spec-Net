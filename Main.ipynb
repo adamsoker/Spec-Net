{
 "cells": [
  {
   "cell_type": "markdown",
   "source": [
    "Imports"
   ],
   "metadata": {
    "collapsed": false,
    "pycharm": {
     "name": "#%% md\n"
    }
   }
  },
  {
   "cell_type": "code",
   "execution_count": 1,
   "metadata": {
    "collapsed": true,
    "pycharm": {
     "name": "#%%\n"
    }
   },
   "outputs": [],
   "source": [
    "import numpy as np\n",
    "import matplotlib.pyplot as plt\n",
    "import torch\n",
    "from load_data import load_data\n",
    "from dataset import Full_Dataset,RGB_Dataset ,spec_Dataset\n",
    "from models import U_net_spec,U_net_RGB,DiceBCELoss,binary_Loss\n",
    "from fit_model import fit_model\n",
    "from tqdm import tqdm\n",
    "import sys\n",
    "from scipy import io\n",
    "import os\n",
    "from function import full_forward, AJI"
   ]
  },
  {
   "cell_type": "markdown",
   "source": [
    "Device definition"
   ],
   "metadata": {
    "collapsed": false,
    "pycharm": {
     "name": "#%% md\n"
    }
   }
  },
  {
   "cell_type": "code",
   "execution_count": 4,
   "outputs": [],
   "source": [
    "device = torch.device('cuda:0')"
   ],
   "metadata": {
    "collapsed": false,
    "pycharm": {
     "name": "#%%\n"
    }
   }
  },
  {
   "cell_type": "markdown",
   "source": [
    "Creat pickle files from the mat files and load them.\n",
    "You may request the database by email adam-soker@campus.technion.ac.il ."
   ],
   "metadata": {
    "collapsed": false,
    "pycharm": {
     "name": "#%% md\n"
    }
   }
  },
  {
   "cell_type": "code",
   "execution_count": null,
   "outputs": [],
   "source": [
    "Train_data = './Train_data/'\n",
    "spec,RGB,mask,RGB_balance,ID = load_data(directory_name = Train_data)"
   ],
   "metadata": {
    "collapsed": false,
    "pycharm": {
     "name": "#%%\n",
     "is_executing": true
    }
   }
  },
  {
   "cell_type": "markdown",
   "source": [
    "Cross validation"
   ],
   "metadata": {
    "collapsed": false,
    "pycharm": {
     "name": "#%% md\n"
    }
   }
  },
  {
   "cell_type": "code",
   "execution_count": null,
   "outputs": [],
   "source": [
    "torch.cuda.empty_cache()\n",
    "p=0 ## The dropout factor. was not used in the article.\n",
    "N = 2 ## A factor for determining the size of the model. was set to 2 in the article.\n",
    "Lambda = [0.5,1,2] ## Lambda values (as listed in the article) that are checked\n",
    "epochs = 6\n",
    "\n",
    "## Learning rate settings\n",
    "lr = 1e-4\n",
    "step_size=20\n",
    "batch_size = 16\n",
    "gamma=0.90\n",
    "\n",
    "\n",
    "\n",
    "ID_unique = np.unique(ID)\n",
    "summery =[]\n",
    "first = True\n",
    "for i in range(len(ID_unique)):\n",
    "    for chosen_model in ['spec','RGB']:\n",
    "        if 'RGB' in chosen_model:\n",
    "            RGB_mean = RGB[ID!=ID_unique[i]].mean(0).mean(0).mean(0)\n",
    "            RGB_norm = (RGB-RGB_mean)\n",
    "            RGB_std = (RGB_norm[ID!=ID_unique[i]]*RGB_norm[ID!=ID_unique[i]]).mean(0).mean(0).mean(0)\n",
    "            RGB_norm = RGB_norm/RGB_std\n",
    "\n",
    "            net = U_net_RGB\n",
    "            train_dataset = RGB_Dataset(RGB_norm[ID!=ID_unique[i]].to(device=device, dtype=torch.float),mask[ID!=ID_unique[i]].to(device=device, dtype=torch.float))\n",
    "            valid_dataset = RGB_Dataset(RGB_norm[ID==ID_unique[i]].to(device=device, dtype=torch.float),mask[ID==ID_unique[i]].to(device=device, dtype=torch.float))\n",
    "            train_dataloader = torch.utils.data.DataLoader(train_dataset, batch_size=batch_size, shuffle=False,drop_last=False)\n",
    "            valid_dataloader = torch.utils.data.DataLoader(valid_dataset, batch_size=batch_size, shuffle=False,drop_last=False)\n",
    "        else:\n",
    "            spec_mean = spec[ID!=ID_unique[i]].mean(0).mean(0).mean(0)\n",
    "            spec_norm = (spec-spec_mean)\n",
    "            spec_std = (spec_norm[ID!=ID_unique[i]]*spec_norm[ID!=ID_unique[i]]).mean(0).mean(0).mean(0)\n",
    "            spec_norm = spec_norm/spec_std\n",
    "\n",
    "            net = U_net_spec\n",
    "            train_dataset = spec_Dataset(spec_norm[ID!=ID_unique[i]].to(device=device, dtype=torch.float),mask[ID!=ID_unique[i]].to(device=device, dtype=torch.float))\n",
    "            valid_dataset = spec_Dataset(spec_norm[ID==ID_unique[i]].to(device=device, dtype=torch.float),mask[ID==ID_unique[i]].to(device=device, dtype=torch.float))\n",
    "            train_dataloader = torch.utils.data.DataLoader(train_dataset, batch_size=batch_size, shuffle=False,drop_last=False)\n",
    "            valid_dataloader = torch.utils.data.DataLoader(valid_dataset, batch_size=batch_size, shuffle=False,drop_last=False)\n",
    "\n",
    "\n",
    "        for j,L in enumerate(Lambda):\n",
    "            criterion=DiceBCELoss(Lambda=L)\n",
    "            model = net(p=p,N=N).cuda()\n",
    "            print('Start {} Lambda: {}  iteration: {}'.format(chosen_model.replace('_',' '),L,i+1))\n",
    "            history = list([0,0,0,0,0])\n",
    "\n",
    "            # exec('model = {}(p=p,N=N).cuda()'.format(chosen_model))\n",
    "            fit, cur_history = fit_model(train_dataloader,valid_dataloader,model=model,criterion=criterion,device=device,epochs=epochs,lr = lr,step_size=step_size,gamma=gamma,DisEpochSum=False,break_cond=False)\n",
    "            cur_history = torch.stack(cur_history)\n",
    "            exec(\"if first:\\n   history_{}_{} = cur_history\\nelse:\\n  history_{}_{}=history_{}_{}+cur_history\".format(chosen_model,j,chosen_model,j,chosen_model,j,chosen_model,j))\n",
    "            print('End {} Lambda: {}  iteration: {}\\n'.format(chosen_model.replace('_',' '),L,i+1))\n",
    "        first = False\n",
    "\n",
    "\n"
   ],
   "metadata": {
    "collapsed": false,
    "pycharm": {
     "name": "#%%\n",
     "is_executing": true
    }
   }
  },
  {
   "cell_type": "markdown",
   "source": [
    "Plot the validation result"
   ],
   "metadata": {
    "collapsed": false,
    "pycharm": {
     "name": "#%% md\n"
    }
   }
  },
  {
   "cell_type": "code",
   "execution_count": 8,
   "outputs": [],
   "source": [
    "for chosen_model in ['spec','RGB']:\n",
    "     for j,L in enumerate(Lambda):\n",
    "         exec(\"history = history_{}_{}\".format(chosen_model,j))\n",
    "         summery.append({'lr':lr,'chosen_model':chosen_model,'tr loss':history[0]/len(ID_unique),'val loss':history[1]/len(ID_unique),'tr acc':history[2]/len(ID_unique),'val acc':history[3]/len(ID_unique),'val F1':history[4]/len(ID_unique),'Lambda':L})\n",
    "\n",
    "chosen_model = []"
   ],
   "metadata": {
    "collapsed": false,
    "pycharm": {
     "name": "#%%\n"
    }
   }
  },
  {
   "cell_type": "code",
   "execution_count": null,
   "outputs": [],
   "source": [
    "fig, ax = plt.subplots(int(len(summery)/2),3, figsize=(40, 40))\n",
    "for i in range(int(len(summery)/2)):\n",
    "    for j,mode in enumerate(['SI','RGB']):\n",
    "        ax[i,0].plot(summery[2*i+j]['val loss'],label= 'Valid Loss {}'.format(mode))\n",
    "        ax[i,1].plot(summery[2*i+j]['val acc'],label= 'Valid Accuracy {}'.format(mode))\n",
    "        ax[i,2].plot(summery[2*i+j]['val F1'],label= 'Valid Accuracy {}'.format(mode))\n",
    "\n",
    "    ax[i,0].grid()\n",
    "    ax[i,0].legend(fontsize=20)\n",
    "    ax[i,0].set_ylabel('loss',fontsize=20)\n",
    "    ax[i,0].set_xlabel('Epoch',fontsize=20)\n",
    "    ax[i,0].set_title('Loss, Lambda = {}'.format(summery[2*i+j]['Lambda']), fontsize=30, color='k')\n",
    "\n",
    "    ax[i,1].grid()\n",
    "    ax[i,1].legend(fontsize=20)\n",
    "    ax[i,1].set_ylabel('Accuracy',fontsize=20)\n",
    "    ax[i,1].set_xlabel('Epoch',fontsize=20)\n",
    "    ax[i,1].set_title('Accuracy, Lambda = {}'.format(summery[2*i+j]['Lambda']), fontsize=30, color='k')\n",
    "\n",
    "    ax[i,2].grid()\n",
    "    ax[i,2].legend(fontsize=20)\n",
    "    ax[i,2].set_ylabel('F1-score',fontsize=20)\n",
    "    ax[i,2].set_xlabel('Epoch',fontsize=20)\n",
    "    ax[i,2].set_title('F1-score, Lambda = {}'.format(summery[2*i+j]['Lambda']), fontsize=30, color='k')"
   ],
   "metadata": {
    "collapsed": false,
    "pycharm": {
     "name": "#%%\n",
     "is_executing": true
    }
   }
  },
  {
   "cell_type": "markdown",
   "source": [
    "Model sizes"
   ],
   "metadata": {
    "collapsed": false,
    "pycharm": {
     "name": "#%% md\n"
    }
   }
  },
  {
   "cell_type": "code",
   "execution_count": null,
   "outputs": [],
   "source": [
    "import models\n",
    "importlib.reload(models)\n",
    "from models import U_net_spec,U_net_RGB,DiceBCELoss\n",
    "\n",
    "model = U_net_RGB(N=2,p=0)\n",
    "pytorch_total_params = sum(p.numel() for p in model.parameters())\n",
    "print('U-net RGB',pytorch_total_params)\n",
    "\n",
    "\n",
    "model = U_net_spec(N=2,p=0)\n",
    "pytorch_total_params = sum(p.numel() for p in model.parameters())\n",
    "print('U-net SI',pytorch_total_params)"
   ],
   "metadata": {
    "collapsed": false,
    "pycharm": {
     "name": "#%%\n",
     "is_executing": true
    }
   }
  },
  {
   "cell_type": "markdown",
   "source": [
    "Training the final spec-net model.\n"
   ],
   "metadata": {
    "collapsed": false,
    "pycharm": {
     "name": "#%% md\n"
    }
   }
  },
  {
   "cell_type": "code",
   "execution_count": null,
   "outputs": [],
   "source": [
    "spec_mean = spec.mean(0).mean(0).mean(0)\n",
    "spec_norm = (spec-spec_mean)\n",
    "spec_std = (spec_norm*spec_norm).mean(0).mean(0).mean(0)\n",
    "spec_norm = spec_norm/spec_std\n",
    "\n",
    "\n",
    "train_dataset = spec_Dataset(spec_norm.to(device=device, dtype=torch.float),mask.to(device=device, dtype=torch.float))\n",
    "train_dataloader = torch.utils.data.DataLoader(train_dataset, batch_size=batch_size, shuffle=False,drop_last=False)\n",
    "\n",
    "epochs = 100\n",
    "p = 0\n",
    "N = 2\n",
    "L = 0.5\n",
    "\n",
    "net_spec = U_net_spec(p=p,N=N).cuda()\n",
    "optimizer = torch.optim.Adam(net_spec.parameters(), lr=lr)\n",
    "scheduler = torch.optim.lr_scheduler.StepLR(optimizer, step_size=step_size, gamma=gamma)\n",
    "net_spec.train()\n",
    "\n",
    "\n",
    "criterion=DiceBCELoss(Lambda=L)\n",
    "for epoch in range(epochs):\n",
    "    with tqdm(total=len(train_dataloader), file=sys.stdout) as pbar:\n",
    "        for i, (input, input_label) in enumerate(train_dataloader,0):\n",
    "            pbar.set_description('Epoch %d/%d' % (1 + epoch, epochs))\n",
    "\n",
    "            pbar.update(1)\n",
    "            input = input\n",
    "            input = torch.permute(input,(0,3,1,2))\n",
    "            input_label = input_label\n",
    "            output = net_spec(input)\n",
    "            output = output\n",
    "            loss = criterion(output.squeeze(), input_label.squeeze())\n",
    "            optimizer.zero_grad()\n",
    "            loss.backward()\n",
    "            optimizer.step()\n",
    "\n",
    "net_spec.eval()\n",
    "PATH = './models/spec_p{}_L{}_epoch{}.pt'.format(N, p, L, int(epoch + 1))\n",
    "torch.save(net_spec.state_dict(), PATH)\n"
   ],
   "metadata": {
    "collapsed": false,
    "pycharm": {
     "name": "#%%\n",
     "is_executing": true
    }
   }
  },
  {
   "cell_type": "markdown",
   "source": [
    "Training the final RGB-net model."
   ],
   "metadata": {
    "collapsed": false,
    "pycharm": {
     "name": "#%% md\n"
    }
   }
  },
  {
   "cell_type": "code",
   "execution_count": null,
   "outputs": [],
   "source": [
    "RGB_mean = RGB.mean(0).mean(0).mean(0)\n",
    "RGB_norm = (RGB-RGB_mean)\n",
    "RGB_std = (RGB_norm*RGB_norm).mean(0).mean(0).mean(0)\n",
    "RGB_norm = RGB_norm/RGB_std\n",
    "\n",
    "\n",
    "train_dataset = RGB_Dataset(RGB_norm.to(device=device, dtype=torch.float),mask.to(device=device, dtype=torch.float))\n",
    "train_dataloader = torch.utils.data.DataLoader(train_dataset, batch_size=batch_size, shuffle=False,drop_last=False)\n",
    "\n",
    "epochs = 100\n",
    "p = 0\n",
    "N = 2\n",
    "L = 2\n",
    "\n",
    "net_RGB = U_net_RGB(p=p,N=N).cuda()\n",
    "optimizer = torch.optim.Adam(net_RGB.parameters(), lr=lr)\n",
    "scheduler = torch.optim.lr_scheduler.StepLR(optimizer, step_size=step_size, gamma=gamma)\n",
    "net_RGB.train()\n",
    "\n",
    "\n",
    "criterion=DiceBCELoss(Lambda=L)\n",
    "for epoch in range(epochs):\n",
    "    with tqdm(total=len(train_dataloader), file=sys.stdout) as pbar:\n",
    "        for i, (input, input_label) in enumerate(train_dataloader,0):\n",
    "            pbar.set_description('Epoch %d/%d' % (1 + epoch, epochs))\n",
    "            pbar.update(1)\n",
    "            input = input\n",
    "            input = torch.permute(input,(0,3,1,2))\n",
    "            input_label = input_label\n",
    "            output = net_RGB(input)\n",
    "            output = output\n",
    "            loss = criterion(output.squeeze(), input_label.squeeze())\n",
    "            optimizer.zero_grad()\n",
    "            loss.backward()\n",
    "            optimizer.step()\n",
    "\n",
    "net_RGB.eval()\n",
    "PATH = '../models/RGB_p{}_L{}_epoch{}.pt'.format(N, p, Lambda, int(epoch + 1))\n",
    "torch.save(net_RGB.state_dict(), PATH)"
   ],
   "metadata": {
    "collapsed": false,
    "pycharm": {
     "name": "#%%\n",
     "is_executing": true
    }
   }
  },
  {
   "cell_type": "markdown",
   "source": [
    "Testing"
   ],
   "metadata": {
    "collapsed": false,
    "pycharm": {
     "name": "#%% md\n"
    }
   }
  },
  {
   "cell_type": "code",
   "execution_count": null,
   "outputs": [],
   "source": [
    "\n",
    "Test_dir = './Test_data'\n",
    "\n",
    "mask_spec_pred = []\n",
    "F1_spec = []\n",
    "AJI_spec = []\n",
    "\n",
    "\n",
    "mask_RGB_pred = []\n",
    "F1_RGB = []\n",
    "AJI_RGB = []\n",
    "\n",
    "from torchmetrics.classification import BinaryF1Score\n",
    "F1_metric = BinaryF1Score().to(device=device)\n",
    "\n",
    "for i, file_name in enumerate(os.listdir(Test_dir)):\n",
    "    if file_name.endswith('.mat') :\n",
    "        mat = io.loadmat(Test_dir +'/'+ file_name)\n",
    "        mask_gt = mat['mask']\n",
    "\n",
    "        spec_test = ((torch.tensor(mat['spec'])-spec_mean)/spec_std).to(device=device, dtype=torch.float)\n",
    "        mask_spec_pred_cur = full_forward(sample_size=128,model=net_spec,image=spec_test,device=device)\n",
    "        mask_spec_pred.append(mask_spec_pred_cur)\n",
    "        F1_spec.append(F1_metric(mask_spec_pred_cur,mask_spec_pred_cur))\n",
    "        AJI_spec.append(AJI(mask_gt,mask_spec_pred_cur))\n",
    "        \n",
    "        RGB_test = ((torch.tensor(mat['RGB'])-RGB_mean)/RGB_std).to(device=device, dtype=torch.float)\n",
    "        mask_RGB_pred_cur = full_forward(sample_size=128,model=net_RGB,image=RGB_test,device=device)\n",
    "        mask_RGB_pred.append(mask_RGB_pred_cur)\n",
    "        F1_RGB.append(F1_metric(mask_RGB_pred_cur,mask_RGB_pred_cur))\n",
    "        AJI_RGB.append(AJI(mask_gt,mask_RGB_pred_cur))"
   ],
   "metadata": {
    "collapsed": false,
    "pycharm": {
     "name": "#%%\n",
     "is_executing": true
    }
   }
  }
 ],
 "metadata": {
  "kernelspec": {
   "display_name": "Python 3",
   "language": "python",
   "name": "python3"
  },
  "language_info": {
   "codemirror_mode": {
    "name": "ipython",
    "version": 2
   },
   "file_extension": ".py",
   "mimetype": "text/x-python",
   "name": "python",
   "nbconvert_exporter": "python",
   "pygments_lexer": "ipython2",
   "version": "2.7.6"
  }
 },
 "nbformat": 4,
 "nbformat_minor": 0
}